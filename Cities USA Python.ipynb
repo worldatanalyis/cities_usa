{
 "cells": [
  {
   "cell_type": "markdown",
   "id": "12667d64-0448-407f-8f2e-a3c09fc24345",
   "metadata": {
    "tags": []
   },
   "source": [
    "# Cities in USA"
   ]
  },
  {
   "cell_type": "code",
   "execution_count": 1,
   "id": "da365eca-4139-4abf-92c1-66f91fc41026",
   "metadata": {},
   "outputs": [
    {
     "data": {
      "text/html": [
       "<div>\n",
       "<style scoped>\n",
       "    .dataframe tbody tr th:only-of-type {\n",
       "        vertical-align: middle;\n",
       "    }\n",
       "\n",
       "    .dataframe tbody tr th {\n",
       "        vertical-align: top;\n",
       "    }\n",
       "\n",
       "    .dataframe thead th {\n",
       "        text-align: right;\n",
       "    }\n",
       "</style>\n",
       "<table border=\"1\" class=\"dataframe\">\n",
       "  <thead>\n",
       "    <tr style=\"text-align: right;\">\n",
       "      <th></th>\n",
       "      <th>SUMLEV</th>\n",
       "      <th>CBSA</th>\n",
       "      <th>NAME</th>\n",
       "      <th>LSAD</th>\n",
       "      <th>DATE</th>\n",
       "      <th>POPESTIMATE</th>\n",
       "      <th>POPEST_MALE</th>\n",
       "      <th>POPEST_FEMALE</th>\n",
       "      <th>UNDER5_TOTAL</th>\n",
       "      <th>UNDER5_MALE</th>\n",
       "      <th>...</th>\n",
       "      <th>AGE7579_FEMALE</th>\n",
       "      <th>AGE8084_TOTAL</th>\n",
       "      <th>AGE8084_MALE</th>\n",
       "      <th>AGE8084_FEMALE</th>\n",
       "      <th>AGE85PLUS_TOTAL</th>\n",
       "      <th>AGE85PLUS_MALE</th>\n",
       "      <th>AGE85PLUS_FEMALE</th>\n",
       "      <th>MEDIAN_AGE_TOTAL</th>\n",
       "      <th>MEDIAN_AGE_MALE</th>\n",
       "      <th>MEDIAN_AGE_FEMALE</th>\n",
       "    </tr>\n",
       "  </thead>\n",
       "  <tbody>\n",
       "    <tr>\n",
       "      <th>0</th>\n",
       "      <td>310</td>\n",
       "      <td>10180</td>\n",
       "      <td>Abilene, TX</td>\n",
       "      <td>Metropolitan Statistical Area</td>\n",
       "      <td>1</td>\n",
       "      <td>176579</td>\n",
       "      <td>89269</td>\n",
       "      <td>87310</td>\n",
       "      <td>11879</td>\n",
       "      <td>6000</td>\n",
       "      <td>...</td>\n",
       "      <td>2705</td>\n",
       "      <td>3342</td>\n",
       "      <td>1386</td>\n",
       "      <td>1956</td>\n",
       "      <td>3298</td>\n",
       "      <td>1171</td>\n",
       "      <td>2127</td>\n",
       "      <td>34.1</td>\n",
       "      <td>33.2</td>\n",
       "      <td>35.2</td>\n",
       "    </tr>\n",
       "    <tr>\n",
       "      <th>1</th>\n",
       "      <td>310</td>\n",
       "      <td>10180</td>\n",
       "      <td>Abilene, TX</td>\n",
       "      <td>Metropolitan Statistical Area</td>\n",
       "      <td>2</td>\n",
       "      <td>176809</td>\n",
       "      <td>89408</td>\n",
       "      <td>87401</td>\n",
       "      <td>11847</td>\n",
       "      <td>6002</td>\n",
       "      <td>...</td>\n",
       "      <td>2697</td>\n",
       "      <td>3329</td>\n",
       "      <td>1371</td>\n",
       "      <td>1958</td>\n",
       "      <td>3270</td>\n",
       "      <td>1162</td>\n",
       "      <td>2108</td>\n",
       "      <td>34.2</td>\n",
       "      <td>33.2</td>\n",
       "      <td>35.2</td>\n",
       "    </tr>\n",
       "    <tr>\n",
       "      <th>2</th>\n",
       "      <td>310</td>\n",
       "      <td>10180</td>\n",
       "      <td>Abilene, TX</td>\n",
       "      <td>Metropolitan Statistical Area</td>\n",
       "      <td>3</td>\n",
       "      <td>177314</td>\n",
       "      <td>89671</td>\n",
       "      <td>87643</td>\n",
       "      <td>11430</td>\n",
       "      <td>5845</td>\n",
       "      <td>...</td>\n",
       "      <td>2725</td>\n",
       "      <td>3323</td>\n",
       "      <td>1383</td>\n",
       "      <td>1940</td>\n",
       "      <td>3208</td>\n",
       "      <td>1129</td>\n",
       "      <td>2079</td>\n",
       "      <td>34.3</td>\n",
       "      <td>33.5</td>\n",
       "      <td>35.3</td>\n",
       "    </tr>\n",
       "    <tr>\n",
       "      <th>3</th>\n",
       "      <td>310</td>\n",
       "      <td>10420</td>\n",
       "      <td>Akron, OH</td>\n",
       "      <td>Metropolitan Statistical Area</td>\n",
       "      <td>1</td>\n",
       "      <td>702219</td>\n",
       "      <td>343286</td>\n",
       "      <td>358933</td>\n",
       "      <td>36969</td>\n",
       "      <td>18767</td>\n",
       "      <td>...</td>\n",
       "      <td>11922</td>\n",
       "      <td>14028</td>\n",
       "      <td>5840</td>\n",
       "      <td>8188</td>\n",
       "      <td>14395</td>\n",
       "      <td>5060</td>\n",
       "      <td>9335</td>\n",
       "      <td>40.6</td>\n",
       "      <td>39.5</td>\n",
       "      <td>41.7</td>\n",
       "    </tr>\n",
       "    <tr>\n",
       "      <th>4</th>\n",
       "      <td>310</td>\n",
       "      <td>10420</td>\n",
       "      <td>Akron, OH</td>\n",
       "      <td>Metropolitan Statistical Area</td>\n",
       "      <td>2</td>\n",
       "      <td>701305</td>\n",
       "      <td>342719</td>\n",
       "      <td>358586</td>\n",
       "      <td>36712</td>\n",
       "      <td>18624</td>\n",
       "      <td>...</td>\n",
       "      <td>11987</td>\n",
       "      <td>13994</td>\n",
       "      <td>5820</td>\n",
       "      <td>8174</td>\n",
       "      <td>14254</td>\n",
       "      <td>5036</td>\n",
       "      <td>9218</td>\n",
       "      <td>40.6</td>\n",
       "      <td>39.6</td>\n",
       "      <td>41.7</td>\n",
       "    </tr>\n",
       "  </tbody>\n",
       "</table>\n",
       "<p>5 rows × 95 columns</p>\n",
       "</div>"
      ],
      "text/plain": [
       "   SUMLEV   CBSA         NAME                           LSAD  DATE  \\\n",
       "0     310  10180  Abilene, TX  Metropolitan Statistical Area     1   \n",
       "1     310  10180  Abilene, TX  Metropolitan Statistical Area     2   \n",
       "2     310  10180  Abilene, TX  Metropolitan Statistical Area     3   \n",
       "3     310  10420    Akron, OH  Metropolitan Statistical Area     1   \n",
       "4     310  10420    Akron, OH  Metropolitan Statistical Area     2   \n",
       "\n",
       "   POPESTIMATE  POPEST_MALE  POPEST_FEMALE  UNDER5_TOTAL  UNDER5_MALE  ...  \\\n",
       "0       176579        89269          87310         11879         6000  ...   \n",
       "1       176809        89408          87401         11847         6002  ...   \n",
       "2       177314        89671          87643         11430         5845  ...   \n",
       "3       702219       343286         358933         36969        18767  ...   \n",
       "4       701305       342719         358586         36712        18624  ...   \n",
       "\n",
       "   AGE7579_FEMALE  AGE8084_TOTAL  AGE8084_MALE  AGE8084_FEMALE  \\\n",
       "0            2705           3342          1386            1956   \n",
       "1            2697           3329          1371            1958   \n",
       "2            2725           3323          1383            1940   \n",
       "3           11922          14028          5840            8188   \n",
       "4           11987          13994          5820            8174   \n",
       "\n",
       "   AGE85PLUS_TOTAL  AGE85PLUS_MALE  AGE85PLUS_FEMALE  MEDIAN_AGE_TOTAL  \\\n",
       "0             3298            1171              2127              34.1   \n",
       "1             3270            1162              2108              34.2   \n",
       "2             3208            1129              2079              34.3   \n",
       "3            14395            5060              9335              40.6   \n",
       "4            14254            5036              9218              40.6   \n",
       "\n",
       "   MEDIAN_AGE_MALE  MEDIAN_AGE_FEMALE  \n",
       "0             33.2               35.2  \n",
       "1             33.2               35.2  \n",
       "2             33.5               35.3  \n",
       "3             39.5               41.7  \n",
       "4             39.6               41.7  \n",
       "\n",
       "[5 rows x 95 columns]"
      ]
     },
     "execution_count": 1,
     "metadata": {},
     "output_type": "execute_result"
    }
   ],
   "source": [
    "import pandas as pd\n",
    "\n",
    "df = pd.read_csv('cities_usa.csv',engine='python',encoding='latin1')\n",
    "df.head()"
   ]
  },
  {
   "cell_type": "code",
   "execution_count": 2,
   "id": "a2997b86-d312-40c1-b544-ee9925879941",
   "metadata": {},
   "outputs": [
    {
     "data": {
      "text/plain": [
       "(2781, 95)"
      ]
     },
     "execution_count": 2,
     "metadata": {},
     "output_type": "execute_result"
    }
   ],
   "source": [
    "df.shape"
   ]
  },
  {
   "cell_type": "code",
   "execution_count": 3,
   "id": "6b2a3956-90b3-45d1-8cde-b59a4bf7c764",
   "metadata": {},
   "outputs": [
    {
     "data": {
      "text/plain": [
       "Index(['SUMLEV', 'CBSA', 'NAME', 'LSAD', 'DATE', 'POPESTIMATE', 'POPEST_MALE',\n",
       "       'POPEST_FEMALE', 'UNDER5_TOTAL', 'UNDER5_MALE', 'UNDER5_FEMALE',\n",
       "       'AGE513_TOTAL', 'AGE513_MALE', 'AGE513_FEMALE', 'AGE1417_TOTAL',\n",
       "       'AGE1417_MALE', 'AGE1417_FEMALE', 'AGE1824_TOTAL', 'AGE1824_MALE',\n",
       "       'AGE1824_FEMALE', 'AGE16PLUS_TOTAL', 'AGE16PLUS_MALE',\n",
       "       'AGE16PLUS_FEMALE', 'AGE18PLUS_TOTAL', 'AGE18PLUS_MALE',\n",
       "       'AGE18PLUS_FEMALE', 'AGE1544_TOTAL', 'AGE1544_MALE', 'AGE1544_FEMALE',\n",
       "       'AGE2544_TOTAL', 'AGE2544_MALE', 'AGE2544_FEMALE', 'AGE4564_TOTAL',\n",
       "       'AGE4564_MALE', 'AGE4564_FEMALE', 'AGE65PLUS_TOTAL', 'AGE65PLUS_MALE',\n",
       "       'AGE65PLUS_FEMALE', 'AGE04_TOTAL', 'AGE04_MALE', 'AGE04_FEMALE',\n",
       "       'AGE59_TOTAL', 'AGE59_MALE', 'AGE59_FEMALE', 'AGE1014_TOTAL',\n",
       "       'AGE1014_MALE', 'AGE1014_FEMALE', 'AGE1519_TOTAL', 'AGE1519_MALE',\n",
       "       'AGE1519_FEMALE', 'AGE2024_TOTAL', 'AGE2024_MALE', 'AGE2024_FEMALE',\n",
       "       'AGE2529_TOTAL', 'AGE2529_MALE', 'AGE2529_FEMALE', 'AGE3034_TOTAL',\n",
       "       'AGE3034_MALE', 'AGE3034_FEMALE', 'AGE3539_TOTAL', 'AGE3539_MALE',\n",
       "       'AGE3539_FEMALE', 'AGE4044_TOTAL', 'AGE4044_MALE', 'AGE4044_FEMALE',\n",
       "       'AGE4549_TOTAL', 'AGE4549_MALE', 'AGE4549_FEMALE', 'AGE5054_TOTAL',\n",
       "       'AGE5054_MALE', 'AGE5054_FEMALE', 'AGE5559_TOTAL', 'AGE5559_MALE',\n",
       "       'AGE5559_FEMALE', 'AGE6064_TOTAL', 'AGE6064_MALE', 'AGE6064_FEMALE',\n",
       "       'AGE6569_TOTAL', 'AGE6569_MALE', 'AGE6569_FEMALE', 'AGE7074_TOTAL',\n",
       "       'AGE7074_MALE', 'AGE7074_FEMALE', 'AGE7579_TOTAL', 'AGE7579_MALE',\n",
       "       'AGE7579_FEMALE', 'AGE8084_TOTAL', 'AGE8084_MALE', 'AGE8084_FEMALE',\n",
       "       'AGE85PLUS_TOTAL', 'AGE85PLUS_MALE', 'AGE85PLUS_FEMALE',\n",
       "       'MEDIAN_AGE_TOTAL', 'MEDIAN_AGE_MALE', 'MEDIAN_AGE_FEMALE'],\n",
       "      dtype='object')"
      ]
     },
     "execution_count": 3,
     "metadata": {},
     "output_type": "execute_result"
    }
   ],
   "source": [
    "df.columns"
   ]
  },
  {
   "cell_type": "markdown",
   "id": "c1827e0d-3716-4205-b9ff-6b811aca69b6",
   "metadata": {},
   "source": [
    "### Data cleaning\n",
    "We going to keep only the cloumns we need"
   ]
  },
  {
   "cell_type": "code",
   "execution_count": 4,
   "id": "620decf6-3eb5-4a11-99d6-bab21a778d23",
   "metadata": {},
   "outputs": [
    {
     "data": {
      "text/html": [
       "<div>\n",
       "<style scoped>\n",
       "    .dataframe tbody tr th:only-of-type {\n",
       "        vertical-align: middle;\n",
       "    }\n",
       "\n",
       "    .dataframe tbody tr th {\n",
       "        vertical-align: top;\n",
       "    }\n",
       "\n",
       "    .dataframe thead th {\n",
       "        text-align: right;\n",
       "    }\n",
       "</style>\n",
       "<table border=\"1\" class=\"dataframe\">\n",
       "  <thead>\n",
       "    <tr style=\"text-align: right;\">\n",
       "      <th></th>\n",
       "      <th>NAME</th>\n",
       "      <th>DATE</th>\n",
       "      <th>POPESTIMATE</th>\n",
       "      <th>POPEST_MALE</th>\n",
       "      <th>AGE1824_TOTAL</th>\n",
       "      <th>AGE65PLUS_TOTAL</th>\n",
       "    </tr>\n",
       "  </thead>\n",
       "  <tbody>\n",
       "    <tr>\n",
       "      <th>0</th>\n",
       "      <td>Abilene, TX</td>\n",
       "      <td>1</td>\n",
       "      <td>176579</td>\n",
       "      <td>89269</td>\n",
       "      <td>22586</td>\n",
       "      <td>26690</td>\n",
       "    </tr>\n",
       "    <tr>\n",
       "      <th>1</th>\n",
       "      <td>Abilene, TX</td>\n",
       "      <td>2</td>\n",
       "      <td>176809</td>\n",
       "      <td>89408</td>\n",
       "      <td>22590</td>\n",
       "      <td>26777</td>\n",
       "    </tr>\n",
       "    <tr>\n",
       "      <th>2</th>\n",
       "      <td>Abilene, TX</td>\n",
       "      <td>3</td>\n",
       "      <td>177314</td>\n",
       "      <td>89671</td>\n",
       "      <td>22728</td>\n",
       "      <td>27207</td>\n",
       "    </tr>\n",
       "    <tr>\n",
       "      <th>3</th>\n",
       "      <td>Akron, OH</td>\n",
       "      <td>1</td>\n",
       "      <td>702219</td>\n",
       "      <td>343286</td>\n",
       "      <td>69314</td>\n",
       "      <td>126737</td>\n",
       "    </tr>\n",
       "    <tr>\n",
       "      <th>4</th>\n",
       "      <td>Akron, OH</td>\n",
       "      <td>2</td>\n",
       "      <td>701305</td>\n",
       "      <td>342719</td>\n",
       "      <td>68967</td>\n",
       "      <td>127332</td>\n",
       "    </tr>\n",
       "    <tr>\n",
       "      <th>...</th>\n",
       "      <td>...</td>\n",
       "      <td>...</td>\n",
       "      <td>...</td>\n",
       "      <td>...</td>\n",
       "      <td>...</td>\n",
       "      <td>...</td>\n",
       "    </tr>\n",
       "    <tr>\n",
       "      <th>2776</th>\n",
       "      <td>Zanesville, OH</td>\n",
       "      <td>2</td>\n",
       "      <td>86342</td>\n",
       "      <td>42269</td>\n",
       "      <td>7403</td>\n",
       "      <td>15580</td>\n",
       "    </tr>\n",
       "    <tr>\n",
       "      <th>2777</th>\n",
       "      <td>Zanesville, OH</td>\n",
       "      <td>3</td>\n",
       "      <td>86408</td>\n",
       "      <td>42274</td>\n",
       "      <td>7296</td>\n",
       "      <td>15915</td>\n",
       "    </tr>\n",
       "    <tr>\n",
       "      <th>2778</th>\n",
       "      <td>Zapata, TX</td>\n",
       "      <td>1</td>\n",
       "      <td>13889</td>\n",
       "      <td>6960</td>\n",
       "      <td>1448</td>\n",
       "      <td>1809</td>\n",
       "    </tr>\n",
       "    <tr>\n",
       "      <th>2779</th>\n",
       "      <td>Zapata, TX</td>\n",
       "      <td>2</td>\n",
       "      <td>13884</td>\n",
       "      <td>6963</td>\n",
       "      <td>1442</td>\n",
       "      <td>1819</td>\n",
       "    </tr>\n",
       "    <tr>\n",
       "      <th>2780</th>\n",
       "      <td>Zapata, TX</td>\n",
       "      <td>3</td>\n",
       "      <td>13908</td>\n",
       "      <td>6949</td>\n",
       "      <td>1436</td>\n",
       "      <td>1825</td>\n",
       "    </tr>\n",
       "  </tbody>\n",
       "</table>\n",
       "<p>2781 rows × 6 columns</p>\n",
       "</div>"
      ],
      "text/plain": [
       "                NAME  DATE  POPESTIMATE  POPEST_MALE  AGE1824_TOTAL  \\\n",
       "0        Abilene, TX     1       176579        89269          22586   \n",
       "1        Abilene, TX     2       176809        89408          22590   \n",
       "2        Abilene, TX     3       177314        89671          22728   \n",
       "3          Akron, OH     1       702219       343286          69314   \n",
       "4          Akron, OH     2       701305       342719          68967   \n",
       "...              ...   ...          ...          ...            ...   \n",
       "2776  Zanesville, OH     2        86342        42269           7403   \n",
       "2777  Zanesville, OH     3        86408        42274           7296   \n",
       "2778      Zapata, TX     1        13889         6960           1448   \n",
       "2779      Zapata, TX     2        13884         6963           1442   \n",
       "2780      Zapata, TX     3        13908         6949           1436   \n",
       "\n",
       "      AGE65PLUS_TOTAL  \n",
       "0               26690  \n",
       "1               26777  \n",
       "2               27207  \n",
       "3              126737  \n",
       "4              127332  \n",
       "...               ...  \n",
       "2776            15580  \n",
       "2777            15915  \n",
       "2778             1809  \n",
       "2779             1819  \n",
       "2780             1825  \n",
       "\n",
       "[2781 rows x 6 columns]"
      ]
     },
     "execution_count": 4,
     "metadata": {},
     "output_type": "execute_result"
    }
   ],
   "source": [
    "df1 = df[['NAME','DATE','POPESTIMATE','POPEST_MALE','AGE1824_TOTAL','AGE65PLUS_TOTAL']]\n",
    "df1"
   ]
  },
  {
   "cell_type": "markdown",
   "id": "03cafb74-3432-4b50-8ef0-1a42a3b74d36",
   "metadata": {},
   "source": [
    "We will only keep the last year of data (DATE = 3)"
   ]
  },
  {
   "cell_type": "code",
   "execution_count": 5,
   "id": "d63b2861-4535-43b5-8dc0-cd968d682861",
   "metadata": {},
   "outputs": [
    {
     "data": {
      "text/html": [
       "<div>\n",
       "<style scoped>\n",
       "    .dataframe tbody tr th:only-of-type {\n",
       "        vertical-align: middle;\n",
       "    }\n",
       "\n",
       "    .dataframe tbody tr th {\n",
       "        vertical-align: top;\n",
       "    }\n",
       "\n",
       "    .dataframe thead th {\n",
       "        text-align: right;\n",
       "    }\n",
       "</style>\n",
       "<table border=\"1\" class=\"dataframe\">\n",
       "  <thead>\n",
       "    <tr style=\"text-align: right;\">\n",
       "      <th></th>\n",
       "      <th>NAME</th>\n",
       "      <th>DATE</th>\n",
       "      <th>POPESTIMATE</th>\n",
       "      <th>POPEST_MALE</th>\n",
       "      <th>AGE1824_TOTAL</th>\n",
       "      <th>AGE65PLUS_TOTAL</th>\n",
       "    </tr>\n",
       "  </thead>\n",
       "  <tbody>\n",
       "    <tr>\n",
       "      <th>2</th>\n",
       "      <td>Abilene, TX</td>\n",
       "      <td>3</td>\n",
       "      <td>177314</td>\n",
       "      <td>89671</td>\n",
       "      <td>22728</td>\n",
       "      <td>27207</td>\n",
       "    </tr>\n",
       "    <tr>\n",
       "      <th>5</th>\n",
       "      <td>Akron, OH</td>\n",
       "      <td>3</td>\n",
       "      <td>700015</td>\n",
       "      <td>341789</td>\n",
       "      <td>68486</td>\n",
       "      <td>130359</td>\n",
       "    </tr>\n",
       "    <tr>\n",
       "      <th>8</th>\n",
       "      <td>Albany, GA</td>\n",
       "      <td>3</td>\n",
       "      <td>147773</td>\n",
       "      <td>70139</td>\n",
       "      <td>14870</td>\n",
       "      <td>24781</td>\n",
       "    </tr>\n",
       "    <tr>\n",
       "      <th>11</th>\n",
       "      <td>Albany-Lebanon, OR</td>\n",
       "      <td>3</td>\n",
       "      <td>129839</td>\n",
       "      <td>64524</td>\n",
       "      <td>9845</td>\n",
       "      <td>24869</td>\n",
       "    </tr>\n",
       "    <tr>\n",
       "      <th>14</th>\n",
       "      <td>Albany-Schenectady-Troy, NY</td>\n",
       "      <td>3</td>\n",
       "      <td>899286</td>\n",
       "      <td>442304</td>\n",
       "      <td>94978</td>\n",
       "      <td>165989</td>\n",
       "    </tr>\n",
       "    <tr>\n",
       "      <th>...</th>\n",
       "      <td>...</td>\n",
       "      <td>...</td>\n",
       "      <td>...</td>\n",
       "      <td>...</td>\n",
       "      <td>...</td>\n",
       "      <td>...</td>\n",
       "    </tr>\n",
       "    <tr>\n",
       "      <th>2768</th>\n",
       "      <td>Wooster, OH</td>\n",
       "      <td>3</td>\n",
       "      <td>116710</td>\n",
       "      <td>58478</td>\n",
       "      <td>10995</td>\n",
       "      <td>21823</td>\n",
       "    </tr>\n",
       "    <tr>\n",
       "      <th>2771</th>\n",
       "      <td>Worthington, MN</td>\n",
       "      <td>3</td>\n",
       "      <td>21991</td>\n",
       "      <td>11455</td>\n",
       "      <td>1811</td>\n",
       "      <td>3721</td>\n",
       "    </tr>\n",
       "    <tr>\n",
       "      <th>2774</th>\n",
       "      <td>Yankton, SD</td>\n",
       "      <td>3</td>\n",
       "      <td>23297</td>\n",
       "      <td>12287</td>\n",
       "      <td>1993</td>\n",
       "      <td>4692</td>\n",
       "    </tr>\n",
       "    <tr>\n",
       "      <th>2777</th>\n",
       "      <td>Zanesville, OH</td>\n",
       "      <td>3</td>\n",
       "      <td>86408</td>\n",
       "      <td>42274</td>\n",
       "      <td>7296</td>\n",
       "      <td>15915</td>\n",
       "    </tr>\n",
       "    <tr>\n",
       "      <th>2780</th>\n",
       "      <td>Zapata, TX</td>\n",
       "      <td>3</td>\n",
       "      <td>13908</td>\n",
       "      <td>6949</td>\n",
       "      <td>1436</td>\n",
       "      <td>1825</td>\n",
       "    </tr>\n",
       "  </tbody>\n",
       "</table>\n",
       "<p>927 rows × 6 columns</p>\n",
       "</div>"
      ],
      "text/plain": [
       "                             NAME  DATE  POPESTIMATE  POPEST_MALE  \\\n",
       "2                     Abilene, TX     3       177314        89671   \n",
       "5                       Akron, OH     3       700015       341789   \n",
       "8                      Albany, GA     3       147773        70139   \n",
       "11             Albany-Lebanon, OR     3       129839        64524   \n",
       "14    Albany-Schenectady-Troy, NY     3       899286       442304   \n",
       "...                           ...   ...          ...          ...   \n",
       "2768                  Wooster, OH     3       116710        58478   \n",
       "2771              Worthington, MN     3        21991        11455   \n",
       "2774                  Yankton, SD     3        23297        12287   \n",
       "2777               Zanesville, OH     3        86408        42274   \n",
       "2780                   Zapata, TX     3        13908         6949   \n",
       "\n",
       "      AGE1824_TOTAL  AGE65PLUS_TOTAL  \n",
       "2             22728            27207  \n",
       "5             68486           130359  \n",
       "8             14870            24781  \n",
       "11             9845            24869  \n",
       "14            94978           165989  \n",
       "...             ...              ...  \n",
       "2768          10995            21823  \n",
       "2771           1811             3721  \n",
       "2774           1993             4692  \n",
       "2777           7296            15915  \n",
       "2780           1436             1825  \n",
       "\n",
       "[927 rows x 6 columns]"
      ]
     },
     "execution_count": 5,
     "metadata": {},
     "output_type": "execute_result"
    }
   ],
   "source": [
    "df1 = df1.loc[df1['DATE'] == 3]\n",
    "df1"
   ]
  },
  {
   "cell_type": "markdown",
   "id": "f8b49473-be4a-4f5b-8bf9-98f725a8732e",
   "metadata": {},
   "source": [
    "Lets verify if there is any empty data or duplicates"
   ]
  },
  {
   "cell_type": "code",
   "execution_count": 6,
   "id": "4db37286-26f3-49df-b205-454781b177d6",
   "metadata": {},
   "outputs": [
    {
     "data": {
      "text/plain": [
       "NAME               0\n",
       "DATE               0\n",
       "POPESTIMATE        0\n",
       "POPEST_MALE        0\n",
       "AGE1824_TOTAL      0\n",
       "AGE65PLUS_TOTAL    0\n",
       "dtype: int64"
      ]
     },
     "execution_count": 6,
     "metadata": {},
     "output_type": "execute_result"
    }
   ],
   "source": [
    "df1.isnull().sum()"
   ]
  },
  {
   "cell_type": "code",
   "execution_count": 7,
   "id": "8e1860f6-09a4-4a11-a2a8-e5f509fc1503",
   "metadata": {},
   "outputs": [
    {
     "data": {
      "text/plain": [
       "0"
      ]
     },
     "execution_count": 7,
     "metadata": {},
     "output_type": "execute_result"
    }
   ],
   "source": [
    "df1.duplicated().sum()"
   ]
  },
  {
   "cell_type": "code",
   "execution_count": 8,
   "id": "b5148e57-8f78-4a0f-aa90-866b056d25e6",
   "metadata": {},
   "outputs": [
    {
     "data": {
      "text/plain": [
       "NAME               927\n",
       "DATE                 1\n",
       "POPESTIMATE        923\n",
       "POPEST_MALE        926\n",
       "AGE1824_TOTAL      905\n",
       "AGE65PLUS_TOTAL    918\n",
       "dtype: int64"
      ]
     },
     "execution_count": 8,
     "metadata": {},
     "output_type": "execute_result"
    }
   ],
   "source": [
    "df1.nunique()"
   ]
  },
  {
   "cell_type": "markdown",
   "id": "3345cc3a-aa13-41af-ada7-1b4b3577d9e3",
   "metadata": {
    "tags": []
   },
   "source": [
    "### Analysis"
   ]
  },
  {
   "cell_type": "markdown",
   "id": "1eb7b797-8a2f-482a-861e-66043b746adc",
   "metadata": {},
   "source": [
    "Lets first see what are the biggest and smallest cities in our dataset"
   ]
  },
  {
   "cell_type": "code",
   "execution_count": 9,
   "id": "c9b23fc6-dc0b-44d8-afa4-3936e52faece",
   "metadata": {},
   "outputs": [
    {
     "data": {
      "text/html": [
       "<div>\n",
       "<style scoped>\n",
       "    .dataframe tbody tr th:only-of-type {\n",
       "        vertical-align: middle;\n",
       "    }\n",
       "\n",
       "    .dataframe tbody tr th {\n",
       "        vertical-align: top;\n",
       "    }\n",
       "\n",
       "    .dataframe thead th {\n",
       "        text-align: right;\n",
       "    }\n",
       "</style>\n",
       "<table border=\"1\" class=\"dataframe\">\n",
       "  <thead>\n",
       "    <tr style=\"text-align: right;\">\n",
       "      <th></th>\n",
       "      <th>NAME</th>\n",
       "      <th>POPESTIMATE</th>\n",
       "    </tr>\n",
       "  </thead>\n",
       "  <tbody>\n",
       "    <tr>\n",
       "      <th>1946</th>\n",
       "      <td>Lamesa, TX</td>\n",
       "      <td>12413</td>\n",
       "    </tr>\n",
       "    <tr>\n",
       "      <th>2675</th>\n",
       "      <td>Vernon, TX</td>\n",
       "      <td>12731</td>\n",
       "    </tr>\n",
       "    <tr>\n",
       "      <th>1502</th>\n",
       "      <td>Craig, CO</td>\n",
       "      <td>13185</td>\n",
       "    </tr>\n",
       "    <tr>\n",
       "      <th>1913</th>\n",
       "      <td>Ketchikan, AK</td>\n",
       "      <td>13754</td>\n",
       "    </tr>\n",
       "    <tr>\n",
       "      <th>2780</th>\n",
       "      <td>Zapata, TX</td>\n",
       "      <td>13908</td>\n",
       "    </tr>\n",
       "    <tr>\n",
       "      <th>2312</th>\n",
       "      <td>Pecos, TX</td>\n",
       "      <td>14544</td>\n",
       "    </tr>\n",
       "    <tr>\n",
       "      <th>2600</th>\n",
       "      <td>Sweetwater, TX</td>\n",
       "      <td>14597</td>\n",
       "    </tr>\n",
       "    <tr>\n",
       "      <th>2669</th>\n",
       "      <td>Vermillion, SD</td>\n",
       "      <td>15150</td>\n",
       "    </tr>\n",
       "    <tr>\n",
       "      <th>1631</th>\n",
       "      <td>Fairfield, IA</td>\n",
       "      <td>15647</td>\n",
       "    </tr>\n",
       "    <tr>\n",
       "      <th>1793</th>\n",
       "      <td>Helena-West Helena, AR</td>\n",
       "      <td>15906</td>\n",
       "    </tr>\n",
       "  </tbody>\n",
       "</table>\n",
       "</div>"
      ],
      "text/plain": [
       "                        NAME  POPESTIMATE\n",
       "1946              Lamesa, TX        12413\n",
       "2675              Vernon, TX        12731\n",
       "1502               Craig, CO        13185\n",
       "1913           Ketchikan, AK        13754\n",
       "2780              Zapata, TX        13908\n",
       "2312               Pecos, TX        14544\n",
       "2600          Sweetwater, TX        14597\n",
       "2669          Vermillion, SD        15150\n",
       "1631           Fairfield, IA        15647\n",
       "1793  Helena-West Helena, AR        15906"
      ]
     },
     "execution_count": 9,
     "metadata": {},
     "output_type": "execute_result"
    }
   ],
   "source": [
    "#Smallest cities from the dataset\n",
    "df1[['NAME','POPESTIMATE']].sort_values('POPESTIMATE', ascending = 1).head(10)"
   ]
  },
  {
   "cell_type": "code",
   "execution_count": 10,
   "id": "8c546a6d-cd61-44b6-96ae-bacdd56ca7e6",
   "metadata": {},
   "outputs": [
    {
     "data": {
      "text/html": [
       "<div>\n",
       "<style scoped>\n",
       "    .dataframe tbody tr th:only-of-type {\n",
       "        vertical-align: middle;\n",
       "    }\n",
       "\n",
       "    .dataframe tbody tr th {\n",
       "        vertical-align: top;\n",
       "    }\n",
       "\n",
       "    .dataframe thead th {\n",
       "        text-align: right;\n",
       "    }\n",
       "</style>\n",
       "<table border=\"1\" class=\"dataframe\">\n",
       "  <thead>\n",
       "    <tr style=\"text-align: right;\">\n",
       "      <th></th>\n",
       "      <th>NAME</th>\n",
       "      <th>POPESTIMATE</th>\n",
       "    </tr>\n",
       "  </thead>\n",
       "  <tbody>\n",
       "    <tr>\n",
       "      <th>749</th>\n",
       "      <td>New York-Newark-Jersey City, NY-NJ-PA</td>\n",
       "      <td>19768458</td>\n",
       "    </tr>\n",
       "    <tr>\n",
       "      <th>632</th>\n",
       "      <td>Los Angeles-Long Beach-Anaheim, CA</td>\n",
       "      <td>12997353</td>\n",
       "    </tr>\n",
       "    <tr>\n",
       "      <th>206</th>\n",
       "      <td>Chicago-Naperville-Elgin, IL-IN-WI</td>\n",
       "      <td>9509934</td>\n",
       "    </tr>\n",
       "    <tr>\n",
       "      <th>260</th>\n",
       "      <td>Dallas-Fort Worth-Arlington, TX</td>\n",
       "      <td>7759615</td>\n",
       "    </tr>\n",
       "    <tr>\n",
       "      <th>479</th>\n",
       "      <td>Houston-The Woodlands-Sugar Land, TX</td>\n",
       "      <td>7206841</td>\n",
       "    </tr>\n",
       "    <tr>\n",
       "      <th>1097</th>\n",
       "      <td>Washington-Arlington-Alexandria, DC-VA-MD-WV</td>\n",
       "      <td>6356434</td>\n",
       "    </tr>\n",
       "    <tr>\n",
       "      <th>809</th>\n",
       "      <td>Philadelphia-Camden-Wilmington, PA-NJ-DE-MD</td>\n",
       "      <td>6228601</td>\n",
       "    </tr>\n",
       "    <tr>\n",
       "      <th>53</th>\n",
       "      <td>Atlanta-Sandy Springs-Alpharetta, GA</td>\n",
       "      <td>6144050</td>\n",
       "    </tr>\n",
       "    <tr>\n",
       "      <th>677</th>\n",
       "      <td>Miami-Fort Lauderdale-Pompano Beach, FL</td>\n",
       "      <td>6091747</td>\n",
       "    </tr>\n",
       "    <tr>\n",
       "      <th>812</th>\n",
       "      <td>Phoenix-Mesa-Chandler, AZ</td>\n",
       "      <td>4946145</td>\n",
       "    </tr>\n",
       "  </tbody>\n",
       "</table>\n",
       "</div>"
      ],
      "text/plain": [
       "                                              NAME  POPESTIMATE\n",
       "749          New York-Newark-Jersey City, NY-NJ-PA     19768458\n",
       "632             Los Angeles-Long Beach-Anaheim, CA     12997353\n",
       "206             Chicago-Naperville-Elgin, IL-IN-WI      9509934\n",
       "260                Dallas-Fort Worth-Arlington, TX      7759615\n",
       "479           Houston-The Woodlands-Sugar Land, TX      7206841\n",
       "1097  Washington-Arlington-Alexandria, DC-VA-MD-WV      6356434\n",
       "809    Philadelphia-Camden-Wilmington, PA-NJ-DE-MD      6228601\n",
       "53            Atlanta-Sandy Springs-Alpharetta, GA      6144050\n",
       "677        Miami-Fort Lauderdale-Pompano Beach, FL      6091747\n",
       "812                      Phoenix-Mesa-Chandler, AZ      4946145"
      ]
     },
     "execution_count": 10,
     "metadata": {},
     "output_type": "execute_result"
    }
   ],
   "source": [
    "# Biggest cities from the dataset\n",
    "df1[['NAME','POPESTIMATE']].sort_values('POPESTIMATE', ascending = 0).head(10)"
   ]
  },
  {
   "cell_type": "code",
   "execution_count": 11,
   "id": "f22c787c-c835-4c0f-8216-2aed6093a9ed",
   "metadata": {},
   "outputs": [
    {
     "data": {
      "text/plain": [
       "count         927.0\n",
       "mean       338611.0\n",
       "std       1118715.0\n",
       "min         12413.0\n",
       "25%         39378.0\n",
       "50%         74954.0\n",
       "75%        190408.0\n",
       "max      19768458.0\n",
       "Name: POPESTIMATE, dtype: float64"
      ]
     },
     "execution_count": 11,
     "metadata": {},
     "output_type": "execute_result"
    }
   ],
   "source": [
    "df1['POPESTIMATE'].describe().round()"
   ]
  },
  {
   "cell_type": "code",
   "execution_count": 12,
   "id": "9659d4ac-85ef-4195-8ed0-fa95164a0e35",
   "metadata": {},
   "outputs": [
    {
     "data": {
      "text/plain": [
       "<seaborn.axisgrid.FacetGrid at 0x1a37a1ac520>"
      ]
     },
     "execution_count": 12,
     "metadata": {},
     "output_type": "execute_result"
    },
    {
     "data": {
      "text/plain": [
       "<Figure size 864x504 with 0 Axes>"
      ]
     },
     "metadata": {},
     "output_type": "display_data"
    },
    {
     "data": {
      "image/png": "[encoded data removed]",
      "text/plain": [
       "<Figure size 464.125x360 with 1 Axes>"
      ]
     },
     "metadata": {
      "needs_background": "light"
     },
     "output_type": "display_data"
    }
   ],
   "source": [
    "import seaborn as sns\n",
    "import matplotlib.pyplot as plt\n",
    "\n",
    "plt.figure(figsize=(12,7))\n",
    "sns.displot(df1[['POPESTIMATE']], bins=30, label=\"Positive\", color=\"green\")"
   ]
  },
  {
   "cell_type": "code",
   "execution_count": 13,
   "id": "473dbb03-84cc-4b16-b979-4768dc08baa6",
   "metadata": {},
   "outputs": [
    {
     "data": {
      "text/plain": [
       "<AxesSubplot: >"
      ]
     },
     "execution_count": 13,
     "metadata": {},
     "output_type": "execute_result"
    },
    {
     "data": {
      "image/png": "[encoded data removed]",
      "text/plain": [
       "<Figure size 432x288 with 1 Axes>"
      ]
     },
     "metadata": {
      "needs_background": "light"
     },
     "output_type": "display_data"
    }
   ],
   "source": [
    "df.boxplot(column='POPESTIMATE')"
   ]
  },
  {
   "cell_type": "markdown",
   "id": "575c0bad-f49a-4351-9e65-84a0bc9fa1c8",
   "metadata": {},
   "source": [
    "The histogram and the boxplot tells us that the data is really concentrated with small size cities."
   ]
  },
  {
   "cell_type": "markdown",
   "id": "87cf1f79-99f3-4c9b-966a-8b98e84dd73b",
   "metadata": {},
   "source": [
    "We are going to categories the cities by sizes: small (<150 000), middle(<1 000 000) and big cities (>1 000 000)"
   ]
  },
  {
   "cell_type": "code",
   "execution_count": 14,
   "id": "dc155ac8-585a-4642-85aa-76f10a6a2130",
   "metadata": {},
   "outputs": [],
   "source": [
    "list_size = []\n",
    "for i in range (0,927):\n",
    "    popest = df1['POPESTIMATE'].iloc[i]\n",
    "    if popest < 150000:\n",
    "        size = \"small city\"\n",
    "    elif popest < 1000000:\n",
    "        size = \"medium city\"\n",
    "    else:\n",
    "        size = \"big city\"\n",
    "    list_size.append(size)\n",
    "df1.insert(3, 'city size', list_size)\n"
   ]
  },
  {
   "cell_type": "code",
   "execution_count": 15,
   "id": "7088bce4-aded-4712-b056-3d099300ff1c",
   "metadata": {
    "tags": []
   },
   "outputs": [
    {
     "data": {
      "text/plain": [
       "city size\n",
       "big city        56\n",
       "medium city    234\n",
       "small city     637\n",
       "dtype: int64"
      ]
     },
     "execution_count": 15,
     "metadata": {},
     "output_type": "execute_result"
    }
   ],
   "source": [
    "dfsize = df1.groupby('city size').size()\n",
    "dfsize"
   ]
  },
  {
   "cell_type": "code",
   "execution_count": 16,
   "id": "f4d2177d-c55a-4983-a8c2-4bb4641b5bd6",
   "metadata": {},
   "outputs": [
    {
     "data": {
      "text/plain": [
       "<AxesSubplot: >"
      ]
     },
     "execution_count": 16,
     "metadata": {},
     "output_type": "execute_result"
    },
    {
     "data": {
      "image/png": "[encoded data removed]",
      "text/plain": [
       "<Figure size 432x288 with 1 Axes>"
      ]
     },
     "metadata": {},
     "output_type": "display_data"
    }
   ],
   "source": [
    "dfsize.plot(kind=\"pie\", legend=True, autopct='%1.1f%%')"
   ]
  },
  {
   "cell_type": "code",
   "execution_count": 17,
   "id": "c6bd1a7a-2379-4b46-95ba-8dd9e75e0356",
   "metadata": {},
   "outputs": [
    {
     "data": {
      "text/plain": [
       "city size\n",
       "big city       188870749\n",
       "medium city     87260003\n",
       "small city      37761686\n",
       "Name: POPESTIMATE, dtype: int64"
      ]
     },
     "execution_count": 17,
     "metadata": {},
     "output_type": "execute_result"
    }
   ],
   "source": [
    "dfsize2 = df1.groupby('city size')['POPESTIMATE'].sum()\n",
    "dfsize2"
   ]
  },
  {
   "cell_type": "code",
   "execution_count": 18,
   "id": "e4f2f847-77ef-4766-941f-ab80d93c9f23",
   "metadata": {},
   "outputs": [
    {
     "data": {
      "text/plain": [
       "<AxesSubplot: ylabel='POPESTIMATE'>"
      ]
     },
     "execution_count": 18,
     "metadata": {},
     "output_type": "execute_result"
    },
    {
     "data": {
      "image/png": "[encoded data removed]",
      "text/plain": [
       "<Figure size 432x288 with 1 Axes>"
      ]
     },
     "metadata": {},
     "output_type": "display_data"
    }
   ],
   "source": [
    "dfsize2.plot(kind=\"pie\", legend=True, autopct='%1.1f%%')"
   ]
  },
  {
   "cell_type": "markdown",
   "id": "3dbb4cca-4e17-4710-ae2c-4726646e8a57",
   "metadata": {},
   "source": [
    "We can see that big cities represent 60% of population from our dataset."
   ]
  },
  {
   "cell_type": "markdown",
   "id": "50e14784-0364-459b-b8e0-114c67e1b271",
   "metadata": {},
   "source": [
    "Lets now see the male/female ratio between cities"
   ]
  },
  {
   "cell_type": "code",
   "execution_count": 19,
   "id": "ffd30d8e-aceb-44c5-acd5-ac53ab91104d",
   "metadata": {},
   "outputs": [
    {
     "data": {
      "text/html": [
       "<div>\n",
       "<style scoped>\n",
       "    .dataframe tbody tr th:only-of-type {\n",
       "        vertical-align: middle;\n",
       "    }\n",
       "\n",
       "    .dataframe tbody tr th {\n",
       "        vertical-align: top;\n",
       "    }\n",
       "\n",
       "    .dataframe thead th {\n",
       "        text-align: right;\n",
       "    }\n",
       "</style>\n",
       "<table border=\"1\" class=\"dataframe\">\n",
       "  <thead>\n",
       "    <tr style=\"text-align: right;\">\n",
       "      <th></th>\n",
       "      <th>NAME</th>\n",
       "      <th>city size</th>\n",
       "      <th>% of male</th>\n",
       "    </tr>\n",
       "  </thead>\n",
       "  <tbody>\n",
       "    <tr>\n",
       "      <th>2</th>\n",
       "      <td>Abilene, TX</td>\n",
       "      <td>medium city</td>\n",
       "      <td>50.6</td>\n",
       "    </tr>\n",
       "    <tr>\n",
       "      <th>5</th>\n",
       "      <td>Akron, OH</td>\n",
       "      <td>medium city</td>\n",
       "      <td>48.8</td>\n",
       "    </tr>\n",
       "    <tr>\n",
       "      <th>8</th>\n",
       "      <td>Albany, GA</td>\n",
       "      <td>small city</td>\n",
       "      <td>47.5</td>\n",
       "    </tr>\n",
       "    <tr>\n",
       "      <th>11</th>\n",
       "      <td>Albany-Lebanon, OR</td>\n",
       "      <td>small city</td>\n",
       "      <td>49.7</td>\n",
       "    </tr>\n",
       "    <tr>\n",
       "      <th>14</th>\n",
       "      <td>Albany-Schenectady-Troy, NY</td>\n",
       "      <td>medium city</td>\n",
       "      <td>49.2</td>\n",
       "    </tr>\n",
       "    <tr>\n",
       "      <th>...</th>\n",
       "      <td>...</td>\n",
       "      <td>...</td>\n",
       "      <td>...</td>\n",
       "    </tr>\n",
       "    <tr>\n",
       "      <th>2768</th>\n",
       "      <td>Wooster, OH</td>\n",
       "      <td>small city</td>\n",
       "      <td>50.1</td>\n",
       "    </tr>\n",
       "    <tr>\n",
       "      <th>2771</th>\n",
       "      <td>Worthington, MN</td>\n",
       "      <td>small city</td>\n",
       "      <td>52.1</td>\n",
       "    </tr>\n",
       "    <tr>\n",
       "      <th>2774</th>\n",
       "      <td>Yankton, SD</td>\n",
       "      <td>small city</td>\n",
       "      <td>52.7</td>\n",
       "    </tr>\n",
       "    <tr>\n",
       "      <th>2777</th>\n",
       "      <td>Zanesville, OH</td>\n",
       "      <td>small city</td>\n",
       "      <td>48.9</td>\n",
       "    </tr>\n",
       "    <tr>\n",
       "      <th>2780</th>\n",
       "      <td>Zapata, TX</td>\n",
       "      <td>small city</td>\n",
       "      <td>50.0</td>\n",
       "    </tr>\n",
       "  </tbody>\n",
       "</table>\n",
       "<p>927 rows × 3 columns</p>\n",
       "</div>"
      ],
      "text/plain": [
       "                             NAME    city size  % of male\n",
       "2                     Abilene, TX  medium city       50.6\n",
       "5                       Akron, OH  medium city       48.8\n",
       "8                      Albany, GA   small city       47.5\n",
       "11             Albany-Lebanon, OR   small city       49.7\n",
       "14    Albany-Schenectady-Troy, NY  medium city       49.2\n",
       "...                           ...          ...        ...\n",
       "2768                  Wooster, OH   small city       50.1\n",
       "2771              Worthington, MN   small city       52.1\n",
       "2774                  Yankton, SD   small city       52.7\n",
       "2777               Zanesville, OH   small city       48.9\n",
       "2780                   Zapata, TX   small city       50.0\n",
       "\n",
       "[927 rows x 3 columns]"
      ]
     },
     "execution_count": 19,
     "metadata": {},
     "output_type": "execute_result"
    }
   ],
   "source": [
    "list_male_per = []\n",
    "for i in range (0,927):\n",
    "    pop = df1['POPESTIMATE'].iloc[i]\n",
    "    male = df1['POPEST_MALE'].iloc[i]\n",
    "    percentage_male = round(male/pop*100,1)\n",
    "    list_male_per.append(percentage_male)\n",
    "df_male = df1[[\"NAME\",\"city size\"]]\n",
    "df_male.insert(2, '% of male', list_male_per)\n",
    "df_male"
   ]
  },
  {
   "cell_type": "code",
   "execution_count": 20,
   "id": "98db3fc2-0457-4c28-bd8b-9c52bed4d27d",
   "metadata": {},
   "outputs": [
    {
     "data": {
      "text/html": [
       "<div>\n",
       "<style scoped>\n",
       "    .dataframe tbody tr th:only-of-type {\n",
       "        vertical-align: middle;\n",
       "    }\n",
       "\n",
       "    .dataframe tbody tr th {\n",
       "        vertical-align: top;\n",
       "    }\n",
       "\n",
       "    .dataframe thead th {\n",
       "        text-align: right;\n",
       "    }\n",
       "</style>\n",
       "<table border=\"1\" class=\"dataframe\">\n",
       "  <thead>\n",
       "    <tr style=\"text-align: right;\">\n",
       "      <th></th>\n",
       "      <th>NAME</th>\n",
       "      <th>city size</th>\n",
       "      <th>% of male</th>\n",
       "    </tr>\n",
       "  </thead>\n",
       "  <tbody>\n",
       "    <tr>\n",
       "      <th>2597</th>\n",
       "      <td>Susanville, CA</td>\n",
       "      <td>small city</td>\n",
       "      <td>62.2</td>\n",
       "    </tr>\n",
       "    <tr>\n",
       "      <th>2288</th>\n",
       "      <td>Palestine, TX</td>\n",
       "      <td>small city</td>\n",
       "      <td>61.9</td>\n",
       "    </tr>\n",
       "    <tr>\n",
       "      <th>1286</th>\n",
       "      <td>Beeville, TX</td>\n",
       "      <td>small city</td>\n",
       "      <td>61.3</td>\n",
       "    </tr>\n",
       "    <tr>\n",
       "      <th>2312</th>\n",
       "      <td>Pecos, TX</td>\n",
       "      <td>small city</td>\n",
       "      <td>60.9</td>\n",
       "    </tr>\n",
       "    <tr>\n",
       "      <th>2309</th>\n",
       "      <td>Pearsall, TX</td>\n",
       "      <td>small city</td>\n",
       "      <td>59.7</td>\n",
       "    </tr>\n",
       "  </tbody>\n",
       "</table>\n",
       "</div>"
      ],
      "text/plain": [
       "                NAME   city size  % of male\n",
       "2597  Susanville, CA  small city       62.2\n",
       "2288   Palestine, TX  small city       61.9\n",
       "1286    Beeville, TX  small city       61.3\n",
       "2312       Pecos, TX  small city       60.9\n",
       "2309    Pearsall, TX  small city       59.7"
      ]
     },
     "execution_count": 20,
     "metadata": {},
     "output_type": "execute_result"
    }
   ],
   "source": [
    "#CIties with highest male population\n",
    "df_male.sort_values('% of male', ascending = 0).head(5)"
   ]
  },
  {
   "cell_type": "code",
   "execution_count": 21,
   "id": "fbe30f7a-4227-45ad-9afa-0a09dccf6af9",
   "metadata": {},
   "outputs": [
    {
     "data": {
      "text/html": [
       "<div>\n",
       "<style scoped>\n",
       "    .dataframe tbody tr th:only-of-type {\n",
       "        vertical-align: middle;\n",
       "    }\n",
       "\n",
       "    .dataframe tbody tr th {\n",
       "        vertical-align: top;\n",
       "    }\n",
       "\n",
       "    .dataframe thead th {\n",
       "        text-align: right;\n",
       "    }\n",
       "</style>\n",
       "<table border=\"1\" class=\"dataframe\">\n",
       "  <thead>\n",
       "    <tr style=\"text-align: right;\">\n",
       "      <th></th>\n",
       "      <th>NAME</th>\n",
       "      <th>city size</th>\n",
       "      <th>% of male</th>\n",
       "    </tr>\n",
       "  </thead>\n",
       "  <tbody>\n",
       "    <tr>\n",
       "      <th>2492</th>\n",
       "      <td>Selma, AL</td>\n",
       "      <td>small city</td>\n",
       "      <td>46.4</td>\n",
       "    </tr>\n",
       "    <tr>\n",
       "      <th>1754</th>\n",
       "      <td>Greenville, MS</td>\n",
       "      <td>small city</td>\n",
       "      <td>46.4</td>\n",
       "    </tr>\n",
       "    <tr>\n",
       "      <th>1439</th>\n",
       "      <td>Clarksdale, MS</td>\n",
       "      <td>small city</td>\n",
       "      <td>46.7</td>\n",
       "    </tr>\n",
       "    <tr>\n",
       "      <th>1445</th>\n",
       "      <td>Cleveland, MS</td>\n",
       "      <td>small city</td>\n",
       "      <td>46.7</td>\n",
       "    </tr>\n",
       "    <tr>\n",
       "      <th>1796</th>\n",
       "      <td>Henderson, NC</td>\n",
       "      <td>small city</td>\n",
       "      <td>46.9</td>\n",
       "    </tr>\n",
       "  </tbody>\n",
       "</table>\n",
       "</div>"
      ],
      "text/plain": [
       "                NAME   city size  % of male\n",
       "2492       Selma, AL  small city       46.4\n",
       "1754  Greenville, MS  small city       46.4\n",
       "1439  Clarksdale, MS  small city       46.7\n",
       "1445   Cleveland, MS  small city       46.7\n",
       "1796   Henderson, NC  small city       46.9"
      ]
     },
     "execution_count": 21,
     "metadata": {},
     "output_type": "execute_result"
    }
   ],
   "source": [
    "#CIties with lowest male population\n",
    "df_male.sort_values('% of male', ascending = 1).head(5)"
   ]
  },
  {
   "cell_type": "markdown",
   "id": "0e4dd0ab-46dc-4994-9d19-1327d61fb095",
   "metadata": {},
   "source": [
    "Lets how if the ratio is different between city sizes"
   ]
  },
  {
   "cell_type": "code",
   "execution_count": 22,
   "id": "26360699-dff6-4b0b-9070-1737b4d11b39",
   "metadata": {},
   "outputs": [
    {
     "data": {
      "text/plain": [
       "city size\n",
       "big city       49.351786\n",
       "medium city    49.573077\n",
       "small city     50.294035\n",
       "Name: % of male, dtype: float64"
      ]
     },
     "execution_count": 22,
     "metadata": {},
     "output_type": "execute_result"
    }
   ],
   "source": [
    "dfsize3 = df_male.groupby('city size')['% of male'].mean()\n",
    "dfsize3\n",
    "#We can conclude there is slightly more male in small cities"
   ]
  },
  {
   "cell_type": "markdown",
   "id": "ee7ef1b3-f1b6-4675-8de6-8da3d3ed72fa",
   "metadata": {},
   "source": [
    "We are going to do the same with people between 18 and 25 years old"
   ]
  },
  {
   "cell_type": "code",
   "execution_count": 23,
   "id": "c8a6f7b9-306a-4815-b55a-18935001b4a0",
   "metadata": {},
   "outputs": [
    {
     "data": {
      "text/html": [
       "<div>\n",
       "<style scoped>\n",
       "    .dataframe tbody tr th:only-of-type {\n",
       "        vertical-align: middle;\n",
       "    }\n",
       "\n",
       "    .dataframe tbody tr th {\n",
       "        vertical-align: top;\n",
       "    }\n",
       "\n",
       "    .dataframe thead th {\n",
       "        text-align: right;\n",
       "    }\n",
       "</style>\n",
       "<table border=\"1\" class=\"dataframe\">\n",
       "  <thead>\n",
       "    <tr style=\"text-align: right;\">\n",
       "      <th></th>\n",
       "      <th>NAME</th>\n",
       "      <th>city size</th>\n",
       "      <th>% of 18to25</th>\n",
       "    </tr>\n",
       "  </thead>\n",
       "  <tbody>\n",
       "    <tr>\n",
       "      <th>2</th>\n",
       "      <td>Abilene, TX</td>\n",
       "      <td>medium city</td>\n",
       "      <td>12.8</td>\n",
       "    </tr>\n",
       "    <tr>\n",
       "      <th>5</th>\n",
       "      <td>Akron, OH</td>\n",
       "      <td>medium city</td>\n",
       "      <td>9.8</td>\n",
       "    </tr>\n",
       "    <tr>\n",
       "      <th>8</th>\n",
       "      <td>Albany, GA</td>\n",
       "      <td>small city</td>\n",
       "      <td>10.1</td>\n",
       "    </tr>\n",
       "    <tr>\n",
       "      <th>11</th>\n",
       "      <td>Albany-Lebanon, OR</td>\n",
       "      <td>small city</td>\n",
       "      <td>7.6</td>\n",
       "    </tr>\n",
       "    <tr>\n",
       "      <th>14</th>\n",
       "      <td>Albany-Schenectady-Troy, NY</td>\n",
       "      <td>medium city</td>\n",
       "      <td>10.6</td>\n",
       "    </tr>\n",
       "    <tr>\n",
       "      <th>...</th>\n",
       "      <td>...</td>\n",
       "      <td>...</td>\n",
       "      <td>...</td>\n",
       "    </tr>\n",
       "    <tr>\n",
       "      <th>2768</th>\n",
       "      <td>Wooster, OH</td>\n",
       "      <td>small city</td>\n",
       "      <td>9.4</td>\n",
       "    </tr>\n",
       "    <tr>\n",
       "      <th>2771</th>\n",
       "      <td>Worthington, MN</td>\n",
       "      <td>small city</td>\n",
       "      <td>8.2</td>\n",
       "    </tr>\n",
       "    <tr>\n",
       "      <th>2774</th>\n",
       "      <td>Yankton, SD</td>\n",
       "      <td>small city</td>\n",
       "      <td>8.6</td>\n",
       "    </tr>\n",
       "    <tr>\n",
       "      <th>2777</th>\n",
       "      <td>Zanesville, OH</td>\n",
       "      <td>small city</td>\n",
       "      <td>8.4</td>\n",
       "    </tr>\n",
       "    <tr>\n",
       "      <th>2780</th>\n",
       "      <td>Zapata, TX</td>\n",
       "      <td>small city</td>\n",
       "      <td>10.3</td>\n",
       "    </tr>\n",
       "  </tbody>\n",
       "</table>\n",
       "<p>927 rows × 3 columns</p>\n",
       "</div>"
      ],
      "text/plain": [
       "                             NAME    city size  % of 18to25\n",
       "2                     Abilene, TX  medium city         12.8\n",
       "5                       Akron, OH  medium city          9.8\n",
       "8                      Albany, GA   small city         10.1\n",
       "11             Albany-Lebanon, OR   small city          7.6\n",
       "14    Albany-Schenectady-Troy, NY  medium city         10.6\n",
       "...                           ...          ...          ...\n",
       "2768                  Wooster, OH   small city          9.4\n",
       "2771              Worthington, MN   small city          8.2\n",
       "2774                  Yankton, SD   small city          8.6\n",
       "2777               Zanesville, OH   small city          8.4\n",
       "2780                   Zapata, TX   small city         10.3\n",
       "\n",
       "[927 rows x 3 columns]"
      ]
     },
     "execution_count": 23,
     "metadata": {},
     "output_type": "execute_result"
    }
   ],
   "source": [
    "list_18to25_per = []\n",
    "for i in range (0,927):\n",
    "    pop = df1['POPESTIMATE'].iloc[i]\n",
    "    age = df1['AGE1824_TOTAL'].iloc[i]\n",
    "    percentage_1825 = round(age/pop*100,1)\n",
    "    list_18to25_per.append(percentage_1825)\n",
    "df_18to25 = df1[[\"NAME\",\"city size\"]]\n",
    "df_18to25.insert(2, '% of 18to25', list_18to25_per)\n",
    "df_18to25"
   ]
  },
  {
   "cell_type": "code",
   "execution_count": 24,
   "id": "01e087a2-1997-4f2e-952e-f4ba1d201c44",
   "metadata": {},
   "outputs": [
    {
     "data": {
      "text/html": [
       "<div>\n",
       "<style scoped>\n",
       "    .dataframe tbody tr th:only-of-type {\n",
       "        vertical-align: middle;\n",
       "    }\n",
       "\n",
       "    .dataframe tbody tr th {\n",
       "        vertical-align: top;\n",
       "    }\n",
       "\n",
       "    .dataframe thead th {\n",
       "        text-align: right;\n",
       "    }\n",
       "</style>\n",
       "<table border=\"1\" class=\"dataframe\">\n",
       "  <thead>\n",
       "    <tr style=\"text-align: right;\">\n",
       "      <th></th>\n",
       "      <th>NAME</th>\n",
       "      <th>city size</th>\n",
       "      <th>% of 18to25</th>\n",
       "    </tr>\n",
       "  </thead>\n",
       "  <tbody>\n",
       "    <tr>\n",
       "      <th>2378</th>\n",
       "      <td>Pullman, WA</td>\n",
       "      <td>small city</td>\n",
       "      <td>33.8</td>\n",
       "    </tr>\n",
       "    <tr>\n",
       "      <th>2669</th>\n",
       "      <td>Vermillion, SD</td>\n",
       "      <td>small city</td>\n",
       "      <td>30.7</td>\n",
       "    </tr>\n",
       "    <tr>\n",
       "      <th>2066</th>\n",
       "      <td>Maryville, MO</td>\n",
       "      <td>small city</td>\n",
       "      <td>28.9</td>\n",
       "    </tr>\n",
       "    <tr>\n",
       "      <th>1229</th>\n",
       "      <td>Athens, OH</td>\n",
       "      <td>small city</td>\n",
       "      <td>28.0</td>\n",
       "    </tr>\n",
       "    <tr>\n",
       "      <th>1331</th>\n",
       "      <td>Boone, NC</td>\n",
       "      <td>small city</td>\n",
       "      <td>27.3</td>\n",
       "    </tr>\n",
       "  </tbody>\n",
       "</table>\n",
       "</div>"
      ],
      "text/plain": [
       "                NAME   city size  % of 18to25\n",
       "2378     Pullman, WA  small city         33.8\n",
       "2669  Vermillion, SD  small city         30.7\n",
       "2066   Maryville, MO  small city         28.9\n",
       "1229      Athens, OH  small city         28.0\n",
       "1331       Boone, NC  small city         27.3"
      ]
     },
     "execution_count": 24,
     "metadata": {},
     "output_type": "execute_result"
    }
   ],
   "source": [
    "#CIties with highest percentage of people between 18 to 25 years old\n",
    "df_18to25.sort_values('% of 18to25', ascending = 0).head(5)"
   ]
  },
  {
   "cell_type": "code",
   "execution_count": 25,
   "id": "e7b88744-1348-4c63-a4d9-6cde22cb9381",
   "metadata": {},
   "outputs": [
    {
     "data": {
      "text/html": [
       "<div>\n",
       "<style scoped>\n",
       "    .dataframe tbody tr th:only-of-type {\n",
       "        vertical-align: middle;\n",
       "    }\n",
       "\n",
       "    .dataframe tbody tr th {\n",
       "        vertical-align: top;\n",
       "    }\n",
       "\n",
       "    .dataframe thead th {\n",
       "        text-align: right;\n",
       "    }\n",
       "</style>\n",
       "<table border=\"1\" class=\"dataframe\">\n",
       "  <thead>\n",
       "    <tr style=\"text-align: right;\">\n",
       "      <th></th>\n",
       "      <th>NAME</th>\n",
       "      <th>city size</th>\n",
       "      <th>% of 18to25</th>\n",
       "    </tr>\n",
       "  </thead>\n",
       "  <tbody>\n",
       "    <tr>\n",
       "      <th>1037</th>\n",
       "      <td>The Villages, FL</td>\n",
       "      <td>small city</td>\n",
       "      <td>2.8</td>\n",
       "    </tr>\n",
       "    <tr>\n",
       "      <th>1361</th>\n",
       "      <td>Brookings, OR</td>\n",
       "      <td>small city</td>\n",
       "      <td>4.5</td>\n",
       "    </tr>\n",
       "    <tr>\n",
       "      <th>851</th>\n",
       "      <td>Punta Gorda, FL</td>\n",
       "      <td>medium city</td>\n",
       "      <td>4.8</td>\n",
       "    </tr>\n",
       "    <tr>\n",
       "      <th>470</th>\n",
       "      <td>Homosassa Springs, FL</td>\n",
       "      <td>medium city</td>\n",
       "      <td>5.1</td>\n",
       "    </tr>\n",
       "    <tr>\n",
       "      <th>1718</th>\n",
       "      <td>Gardnerville Ranchos, NV</td>\n",
       "      <td>small city</td>\n",
       "      <td>5.3</td>\n",
       "    </tr>\n",
       "  </tbody>\n",
       "</table>\n",
       "</div>"
      ],
      "text/plain": [
       "                          NAME    city size  % of 18to25\n",
       "1037          The Villages, FL   small city          2.8\n",
       "1361             Brookings, OR   small city          4.5\n",
       "851            Punta Gorda, FL  medium city          4.8\n",
       "470      Homosassa Springs, FL  medium city          5.1\n",
       "1718  Gardnerville Ranchos, NV   small city          5.3"
      ]
     },
     "execution_count": 25,
     "metadata": {},
     "output_type": "execute_result"
    }
   ],
   "source": [
    "#CIties with lowest percentage of people between 18 to 25 years old\n",
    "df_18to25.sort_values('% of 18to25', ascending = 1).head(5)"
   ]
  },
  {
   "cell_type": "code",
   "execution_count": 26,
   "id": "69dd1410-41ad-4d32-ac61-a37f0f59c1b8",
   "metadata": {},
   "outputs": [
    {
     "data": {
      "text/plain": [
       "city size\n",
       "big city        8.792857\n",
       "medium city    10.161538\n",
       "small city      9.680691\n",
       "Name: % of 18to25, dtype: float64"
      ]
     },
     "execution_count": 26,
     "metadata": {},
     "output_type": "execute_result"
    }
   ],
   "source": [
    "dfsize4 = df_18to25.groupby('city size')['% of 18to25'].mean()\n",
    "dfsize4\n",
    "#We cannot see a clear trend here. It  seems young people do prefer medium and small cities"
   ]
  },
  {
   "cell_type": "markdown",
   "id": "43a2a7cf-2394-45ed-b4a9-273953f770cf",
   "metadata": {},
   "source": [
    "And now for people over 65 years old"
   ]
  },
  {
   "cell_type": "code",
   "execution_count": 27,
   "id": "d82b5d7d-88d7-446e-b0d6-58d8f1e7e698",
   "metadata": {},
   "outputs": [
    {
     "data": {
      "text/html": [
       "<div>\n",
       "<style scoped>\n",
       "    .dataframe tbody tr th:only-of-type {\n",
       "        vertical-align: middle;\n",
       "    }\n",
       "\n",
       "    .dataframe tbody tr th {\n",
       "        vertical-align: top;\n",
       "    }\n",
       "\n",
       "    .dataframe thead th {\n",
       "        text-align: right;\n",
       "    }\n",
       "</style>\n",
       "<table border=\"1\" class=\"dataframe\">\n",
       "  <thead>\n",
       "    <tr style=\"text-align: right;\">\n",
       "      <th></th>\n",
       "      <th>NAME</th>\n",
       "      <th>city size</th>\n",
       "      <th>% of over65</th>\n",
       "    </tr>\n",
       "  </thead>\n",
       "  <tbody>\n",
       "    <tr>\n",
       "      <th>2</th>\n",
       "      <td>Abilene, TX</td>\n",
       "      <td>medium city</td>\n",
       "      <td>15.3</td>\n",
       "    </tr>\n",
       "    <tr>\n",
       "      <th>5</th>\n",
       "      <td>Akron, OH</td>\n",
       "      <td>medium city</td>\n",
       "      <td>18.6</td>\n",
       "    </tr>\n",
       "    <tr>\n",
       "      <th>8</th>\n",
       "      <td>Albany, GA</td>\n",
       "      <td>small city</td>\n",
       "      <td>16.8</td>\n",
       "    </tr>\n",
       "    <tr>\n",
       "      <th>11</th>\n",
       "      <td>Albany-Lebanon, OR</td>\n",
       "      <td>small city</td>\n",
       "      <td>19.2</td>\n",
       "    </tr>\n",
       "    <tr>\n",
       "      <th>14</th>\n",
       "      <td>Albany-Schenectady-Troy, NY</td>\n",
       "      <td>medium city</td>\n",
       "      <td>18.5</td>\n",
       "    </tr>\n",
       "    <tr>\n",
       "      <th>...</th>\n",
       "      <td>...</td>\n",
       "      <td>...</td>\n",
       "      <td>...</td>\n",
       "    </tr>\n",
       "    <tr>\n",
       "      <th>2768</th>\n",
       "      <td>Wooster, OH</td>\n",
       "      <td>small city</td>\n",
       "      <td>18.7</td>\n",
       "    </tr>\n",
       "    <tr>\n",
       "      <th>2771</th>\n",
       "      <td>Worthington, MN</td>\n",
       "      <td>small city</td>\n",
       "      <td>16.9</td>\n",
       "    </tr>\n",
       "    <tr>\n",
       "      <th>2774</th>\n",
       "      <td>Yankton, SD</td>\n",
       "      <td>small city</td>\n",
       "      <td>20.1</td>\n",
       "    </tr>\n",
       "    <tr>\n",
       "      <th>2777</th>\n",
       "      <td>Zanesville, OH</td>\n",
       "      <td>small city</td>\n",
       "      <td>18.4</td>\n",
       "    </tr>\n",
       "    <tr>\n",
       "      <th>2780</th>\n",
       "      <td>Zapata, TX</td>\n",
       "      <td>small city</td>\n",
       "      <td>13.1</td>\n",
       "    </tr>\n",
       "  </tbody>\n",
       "</table>\n",
       "<p>927 rows × 3 columns</p>\n",
       "</div>"
      ],
      "text/plain": [
       "                             NAME    city size  % of over65\n",
       "2                     Abilene, TX  medium city         15.3\n",
       "5                       Akron, OH  medium city         18.6\n",
       "8                      Albany, GA   small city         16.8\n",
       "11             Albany-Lebanon, OR   small city         19.2\n",
       "14    Albany-Schenectady-Troy, NY  medium city         18.5\n",
       "...                           ...          ...          ...\n",
       "2768                  Wooster, OH   small city         18.7\n",
       "2771              Worthington, MN   small city         16.9\n",
       "2774                  Yankton, SD   small city         20.1\n",
       "2777               Zanesville, OH   small city         18.4\n",
       "2780                   Zapata, TX   small city         13.1\n",
       "\n",
       "[927 rows x 3 columns]"
      ]
     },
     "execution_count": 27,
     "metadata": {},
     "output_type": "execute_result"
    }
   ],
   "source": [
    "list_over65_per = []\n",
    "for i in range (0,927):\n",
    "    pop = df1['POPESTIMATE'].iloc[i]\n",
    "    ageover65 = df1['AGE65PLUS_TOTAL'].iloc[i]\n",
    "    percentage_over65 = round(ageover65/pop*100,1)\n",
    "    list_over65_per.append(percentage_over65)\n",
    "df_over65 = df1[[\"NAME\",\"city size\"]]\n",
    "df_over65.insert(2, '% of over65', list_over65_per)\n",
    "df_over65"
   ]
  },
  {
   "cell_type": "code",
   "execution_count": 28,
   "id": "09b01857-07bd-4983-85b5-b28d1ddd2c08",
   "metadata": {},
   "outputs": [
    {
     "data": {
      "text/html": [
       "<div>\n",
       "<style scoped>\n",
       "    .dataframe tbody tr th:only-of-type {\n",
       "        vertical-align: middle;\n",
       "    }\n",
       "\n",
       "    .dataframe tbody tr th {\n",
       "        vertical-align: top;\n",
       "    }\n",
       "\n",
       "    .dataframe thead th {\n",
       "        text-align: right;\n",
       "    }\n",
       "</style>\n",
       "<table border=\"1\" class=\"dataframe\">\n",
       "  <thead>\n",
       "    <tr style=\"text-align: right;\">\n",
       "      <th></th>\n",
       "      <th>NAME</th>\n",
       "      <th>city size</th>\n",
       "      <th>% of over65</th>\n",
       "    </tr>\n",
       "  </thead>\n",
       "  <tbody>\n",
       "    <tr>\n",
       "      <th>1037</th>\n",
       "      <td>The Villages, FL</td>\n",
       "      <td>small city</td>\n",
       "      <td>58.2</td>\n",
       "    </tr>\n",
       "    <tr>\n",
       "      <th>851</th>\n",
       "      <td>Punta Gorda, FL</td>\n",
       "      <td>medium city</td>\n",
       "      <td>40.5</td>\n",
       "    </tr>\n",
       "    <tr>\n",
       "      <th>470</th>\n",
       "      <td>Homosassa Springs, FL</td>\n",
       "      <td>medium city</td>\n",
       "      <td>36.3</td>\n",
       "    </tr>\n",
       "    <tr>\n",
       "      <th>968</th>\n",
       "      <td>Sebring-Avon Park, FL</td>\n",
       "      <td>small city</td>\n",
       "      <td>35.7</td>\n",
       "    </tr>\n",
       "    <tr>\n",
       "      <th>1361</th>\n",
       "      <td>Brookings, OR</td>\n",
       "      <td>small city</td>\n",
       "      <td>35.5</td>\n",
       "    </tr>\n",
       "  </tbody>\n",
       "</table>\n",
       "</div>"
      ],
      "text/plain": [
       "                       NAME    city size  % of over65\n",
       "1037       The Villages, FL   small city         58.2\n",
       "851         Punta Gorda, FL  medium city         40.5\n",
       "470   Homosassa Springs, FL  medium city         36.3\n",
       "968   Sebring-Avon Park, FL   small city         35.7\n",
       "1361          Brookings, OR   small city         35.5"
      ]
     },
     "execution_count": 28,
     "metadata": {},
     "output_type": "execute_result"
    }
   ],
   "source": [
    "#CIties with highest percentage of people over 65 years old\n",
    "df_over65.sort_values('% of over65', ascending = 0).head(5)"
   ]
  },
  {
   "cell_type": "code",
   "execution_count": 29,
   "id": "8f1d3e32-f17b-4763-b804-072885a07d19",
   "metadata": {},
   "outputs": [
    {
     "data": {
      "text/html": [
       "<div>\n",
       "<style scoped>\n",
       "    .dataframe tbody tr th:only-of-type {\n",
       "        vertical-align: middle;\n",
       "    }\n",
       "\n",
       "    .dataframe tbody tr th {\n",
       "        vertical-align: top;\n",
       "    }\n",
       "\n",
       "    .dataframe thead th {\n",
       "        text-align: right;\n",
       "    }\n",
       "</style>\n",
       "<table border=\"1\" class=\"dataframe\">\n",
       "  <thead>\n",
       "    <tr style=\"text-align: right;\">\n",
       "      <th></th>\n",
       "      <th>NAME</th>\n",
       "      <th>city size</th>\n",
       "      <th>% of over65</th>\n",
       "    </tr>\n",
       "  </thead>\n",
       "  <tbody>\n",
       "    <tr>\n",
       "      <th>845</th>\n",
       "      <td>Provo-Orem, UT</td>\n",
       "      <td>medium city</td>\n",
       "      <td>7.9</td>\n",
       "    </tr>\n",
       "    <tr>\n",
       "      <th>1670</th>\n",
       "      <td>Fort Leonard Wood, MO</td>\n",
       "      <td>small city</td>\n",
       "      <td>9.4</td>\n",
       "    </tr>\n",
       "    <tr>\n",
       "      <th>767</th>\n",
       "      <td>Odessa, TX</td>\n",
       "      <td>medium city</td>\n",
       "      <td>9.7</td>\n",
       "    </tr>\n",
       "    <tr>\n",
       "      <th>2393</th>\n",
       "      <td>Rexburg, ID</td>\n",
       "      <td>small city</td>\n",
       "      <td>9.8</td>\n",
       "    </tr>\n",
       "    <tr>\n",
       "      <th>512</th>\n",
       "      <td>Jacksonville, NC</td>\n",
       "      <td>medium city</td>\n",
       "      <td>9.9</td>\n",
       "    </tr>\n",
       "  </tbody>\n",
       "</table>\n",
       "</div>"
      ],
      "text/plain": [
       "                       NAME    city size  % of over65\n",
       "845          Provo-Orem, UT  medium city          7.9\n",
       "1670  Fort Leonard Wood, MO   small city          9.4\n",
       "767              Odessa, TX  medium city          9.7\n",
       "2393            Rexburg, ID   small city          9.8\n",
       "512        Jacksonville, NC  medium city          9.9"
      ]
     },
     "execution_count": 29,
     "metadata": {},
     "output_type": "execute_result"
    }
   ],
   "source": [
    "#CIties with lowest percentage of people over 65 years old\n",
    "df_over65.sort_values('% of over65', ascending = 1).head(5)"
   ]
  },
  {
   "cell_type": "code",
   "execution_count": 30,
   "id": "5f3a084c-96ee-4cf9-ab53-7cfa8cc7d8e6",
   "metadata": {},
   "outputs": [
    {
     "data": {
      "text/plain": [
       "city size\n",
       "big city       15.787500\n",
       "medium city    17.841026\n",
       "small city     19.050549\n",
       "Name: % of over65, dtype: float64"
      ]
     },
     "execution_count": 30,
     "metadata": {},
     "output_type": "execute_result"
    }
   ],
   "source": [
    "dfsize5 = df_over65.groupby('city size')['% of over65'].mean()\n",
    "dfsize5\n",
    "#The is a clear trend. People over 65 years old are more represented in smaller cities."
   ]
  }
 ],
 "metadata": {
  "kernelspec": {
   "display_name": "Python 3 (ipykernel)",
   "language": "python",
   "name": "python3"
  },
  "language_info": {
   "codemirror_mode": {
    "name": "ipython",
    "version": 3
   },
   "file_extension": ".py",
   "mimetype": "text/x-python",
   "name": "python",
   "nbconvert_exporter": "python",
   "pygments_lexer": "ipython3",
   "version": "3.10.0"
  }
 },
 "nbformat": 4,
 "nbformat_minor": 5
}
